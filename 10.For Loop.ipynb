{
 "cells": [
  {
   "cell_type": "code",
   "execution_count": 7,
   "id": "69e57ebe",
   "metadata": {},
   "outputs": [],
   "source": [
    "my_list = [10,20,30,40,50,60,70]"
   ]
  },
  {
   "cell_type": "code",
   "execution_count": 9,
   "id": "55bccc8b",
   "metadata": {},
   "outputs": [
    {
     "name": "stdout",
     "output_type": "stream",
     "text": [
      "10\n",
      "20\n",
      "30\n",
      "40\n",
      "50\n",
      "60\n",
      "70\n"
     ]
    }
   ],
   "source": [
    "for num in my_list:\n",
    "    print(num)"
   ]
  },
  {
   "cell_type": "code",
   "execution_count": 10,
   "id": "90d8ea42",
   "metadata": {},
   "outputs": [
    {
     "name": "stdout",
     "output_type": "stream",
     "text": [
      "4.0\n",
      "8.0\n",
      "12.0\n",
      "16.0\n",
      "20.0\n",
      "24.0\n",
      "28.0\n"
     ]
    }
   ],
   "source": [
    "for num in my_list:\n",
    "    print(num/5 *2)"
   ]
  },
  {
   "cell_type": "code",
   "execution_count": 11,
   "id": "8c001d8e",
   "metadata": {},
   "outputs": [
    {
     "name": "stdout",
     "output_type": "stream",
     "text": [
      "4.0\n",
      "8.0\n",
      "12.0\n",
      "16.0\n",
      "20.0\n",
      "24.0\n",
      "28.0\n"
     ]
    }
   ],
   "source": [
    "for x in my_list:\n",
    "    new_number = x/5*2\n",
    "    print(new_number)"
   ]
  },
  {
   "cell_type": "code",
   "execution_count": 13,
   "id": "2c505a8d",
   "metadata": {},
   "outputs": [
    {
     "name": "stdout",
     "output_type": "stream",
     "text": [
      "30\n",
      "60\n"
     ]
    }
   ],
   "source": [
    "for number in my_list:\n",
    "    if number % 6 == 0:       #6'ya bölümünden kalan 0 olan sayılar \n",
    "        print(number)"
   ]
  },
  {
   "cell_type": "code",
   "execution_count": 15,
   "id": "dbe2b85b",
   "metadata": {},
   "outputs": [],
   "source": [
    "my_string = \"eda kılıç\""
   ]
  },
  {
   "cell_type": "code",
   "execution_count": 17,
   "id": "7e8ab567",
   "metadata": {},
   "outputs": [
    {
     "name": "stdout",
     "output_type": "stream",
     "text": [
      "e\n",
      "d\n",
      "a\n",
      " \n",
      "k\n",
      "ı\n",
      "l\n",
      "ı\n",
      "ç\n"
     ]
    }
   ],
   "source": [
    "for c in my_string:\n",
    "    print(c)"
   ]
  },
  {
   "cell_type": "code",
   "execution_count": 18,
   "id": "ff5fc28d",
   "metadata": {},
   "outputs": [],
   "source": [
    "my_tuple = [10,20,30,40,50,60,70]"
   ]
  },
  {
   "cell_type": "code",
   "execution_count": 20,
   "id": "06601492",
   "metadata": {},
   "outputs": [
    {
     "name": "stdout",
     "output_type": "stream",
     "text": [
      "2.0\n",
      "4.0\n",
      "6.0\n",
      "8.0\n",
      "10.0\n",
      "12.0\n",
      "14.0\n"
     ]
    }
   ],
   "source": [
    "for num in my_tuple:\n",
    "    print(num/5)"
   ]
  },
  {
   "cell_type": "code",
   "execution_count": 21,
   "id": "778f0d0e",
   "metadata": {},
   "outputs": [],
   "source": [
    "my_new_list = [(\"a\",\"b\"),(\"c\",\"d\"),(\"e\",\"f\")]"
   ]
  },
  {
   "cell_type": "code",
   "execution_count": 22,
   "id": "948f279a",
   "metadata": {},
   "outputs": [
    {
     "data": {
      "text/plain": [
       "3"
      ]
     },
     "execution_count": 22,
     "metadata": {},
     "output_type": "execute_result"
    }
   ],
   "source": [
    "len(my_new_list)"
   ]
  },
  {
   "cell_type": "code",
   "execution_count": 23,
   "id": "7b3b711b",
   "metadata": {},
   "outputs": [
    {
     "name": "stdout",
     "output_type": "stream",
     "text": [
      "('a', 'b')\n",
      "('c', 'd')\n",
      "('e', 'f')\n"
     ]
    }
   ],
   "source": [
    "for element in my_new_list:\n",
    "    print(element)"
   ]
  },
  {
   "cell_type": "code",
   "execution_count": 24,
   "id": "d4a29798",
   "metadata": {},
   "outputs": [],
   "source": [
    "#tuple unpacking"
   ]
  },
  {
   "cell_type": "code",
   "execution_count": 25,
   "id": "fe7acc36",
   "metadata": {},
   "outputs": [
    {
     "name": "stdout",
     "output_type": "stream",
     "text": [
      "a\n",
      "c\n",
      "e\n"
     ]
    }
   ],
   "source": [
    "for (x,y) in my_new_list:\n",
    "    print(x)"
   ]
  },
  {
   "cell_type": "code",
   "execution_count": 26,
   "id": "c95406c9",
   "metadata": {},
   "outputs": [],
   "source": [
    "my_set = {1,2,3,4,5}"
   ]
  },
  {
   "cell_type": "code",
   "execution_count": 27,
   "id": "649ca32a",
   "metadata": {},
   "outputs": [
    {
     "name": "stdout",
     "output_type": "stream",
     "text": [
      "1\n",
      "2\n",
      "3\n",
      "4\n",
      "5\n"
     ]
    }
   ],
   "source": [
    "for num in my_set:\n",
    "    print(num)"
   ]
  },
  {
   "cell_type": "code",
   "execution_count": 28,
   "id": "cdbb17f3",
   "metadata": {},
   "outputs": [],
   "source": [
    "my_dictionary = {\"k1\":100,\"k2\":200}"
   ]
  },
  {
   "cell_type": "code",
   "execution_count": 29,
   "id": "9637cc56",
   "metadata": {},
   "outputs": [
    {
     "name": "stdout",
     "output_type": "stream",
     "text": [
      "k1\n",
      "k2\n"
     ]
    }
   ],
   "source": [
    "for element in my_dictionary:\n",
    "    print(element)"
   ]
  },
  {
   "cell_type": "code",
   "execution_count": 30,
   "id": "91b4ac00",
   "metadata": {},
   "outputs": [
    {
     "data": {
      "text/plain": [
       "dict_items([('k1', 100), ('k2', 200)])"
      ]
     },
     "execution_count": 30,
     "metadata": {},
     "output_type": "execute_result"
    }
   ],
   "source": [
    "my_dictionary.items()"
   ]
  },
  {
   "cell_type": "code",
   "execution_count": 32,
   "id": "97c54db0",
   "metadata": {},
   "outputs": [
    {
     "name": "stdout",
     "output_type": "stream",
     "text": [
      "100\n",
      "200\n"
     ]
    }
   ],
   "source": [
    "for (key,value) in my_dictionary.items():\n",
    "    print(value)"
   ]
  },
  {
   "cell_type": "code",
   "execution_count": 33,
   "id": "861b9cbd",
   "metadata": {},
   "outputs": [],
   "source": [
    "#continue - break - pass"
   ]
  },
  {
   "cell_type": "code",
   "execution_count": 34,
   "id": "d3fae626",
   "metadata": {},
   "outputs": [],
   "source": [
    "my_list = [10,20,30,40,50,60,70]"
   ]
  },
  {
   "cell_type": "code",
   "execution_count": 37,
   "id": "dab8f6db",
   "metadata": {},
   "outputs": [
    {
     "name": "stdout",
     "output_type": "stream",
     "text": [
      "for loop started\n",
      "10\n",
      "20\n",
      "30\n",
      "40\n",
      "50\n",
      "60\n",
      "70\n",
      "for loop ended\n"
     ]
    }
   ],
   "source": [
    "print(\"for loop started\")\n",
    "for num in my_list:\n",
    "    print(num)\n",
    "print(\"for loop ended\")"
   ]
  },
  {
   "cell_type": "code",
   "execution_count": 39,
   "id": "fbe6ceab",
   "metadata": {},
   "outputs": [
    {
     "name": "stdout",
     "output_type": "stream",
     "text": [
      "10\n",
      "20\n",
      "30\n",
      "40\n",
      "yes\n"
     ]
    }
   ],
   "source": [
    "for number in my_list:\n",
    "    print(number)\n",
    "    if number == 40:\n",
    "        print(\"yes\")\n",
    "        break"
   ]
  },
  {
   "cell_type": "code",
   "execution_count": 43,
   "id": "ded6d39a",
   "metadata": {},
   "outputs": [],
   "source": [
    "my_list = [10,20,30,40,50,60,70]"
   ]
  },
  {
   "cell_type": "code",
   "execution_count": 46,
   "id": "4f3982c9",
   "metadata": {},
   "outputs": [
    {
     "name": "stdout",
     "output_type": "stream",
     "text": [
      "10\n",
      "20\n",
      "30\n",
      "40\n",
      "50\n",
      "60\n",
      "70\n"
     ]
    }
   ],
   "source": [
    "for number in my_list:\n",
    "    print(number)\n",
    "    if number == 40:\n",
    "        continue       #continue nun buradaki amacı kendisinden sonraki döngüye engel olmak.\n",
    "        print(\"yes\")\n",
    "        "
   ]
  },
  {
   "cell_type": "code",
   "execution_count": 47,
   "id": "95c01a36",
   "metadata": {},
   "outputs": [],
   "source": [
    "for number in my_list:\n",
    "    pass"
   ]
  },
  {
   "cell_type": "code",
   "execution_count": null,
   "id": "1107fed8",
   "metadata": {},
   "outputs": [],
   "source": [
    "# pass geri dönüp düzeltmek için program hata vermesin diye konur."
   ]
  }
 ],
 "metadata": {
  "kernelspec": {
   "display_name": "Python 3 (ipykernel)",
   "language": "python",
   "name": "python3"
  },
  "language_info": {
   "codemirror_mode": {
    "name": "ipython",
    "version": 3
   },
   "file_extension": ".py",
   "mimetype": "text/x-python",
   "name": "python",
   "nbconvert_exporter": "python",
   "pygments_lexer": "ipython3",
   "version": "3.10.9"
  }
 },
 "nbformat": 4,
 "nbformat_minor": 5
}
