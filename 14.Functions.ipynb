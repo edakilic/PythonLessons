{
 "cells": [
  {
   "cell_type": "code",
   "execution_count": 1,
   "id": "17c5659e",
   "metadata": {},
   "outputs": [],
   "source": [
    "myName = \"eda\""
   ]
  },
  {
   "cell_type": "code",
   "execution_count": 2,
   "id": "2460516c",
   "metadata": {},
   "outputs": [
    {
     "data": {
      "text/plain": [
       "'EDA'"
      ]
     },
     "execution_count": 2,
     "metadata": {},
     "output_type": "execute_result"
    }
   ],
   "source": [
    "myName.upper()"
   ]
  },
  {
   "cell_type": "code",
   "execution_count": 3,
   "id": "1c15600e",
   "metadata": {},
   "outputs": [],
   "source": [
    "myNameUpper = myName.upper()"
   ]
  },
  {
   "cell_type": "code",
   "execution_count": 4,
   "id": "b98bffc1",
   "metadata": {},
   "outputs": [
    {
     "data": {
      "text/plain": [
       "'EDA'"
      ]
     },
     "execution_count": 4,
     "metadata": {},
     "output_type": "execute_result"
    }
   ],
   "source": [
    "myNameUpper"
   ]
  },
  {
   "cell_type": "code",
   "execution_count": 5,
   "id": "07c6ded3",
   "metadata": {},
   "outputs": [
    {
     "data": {
      "text/plain": [
       "'eda'"
      ]
     },
     "execution_count": 5,
     "metadata": {},
     "output_type": "execute_result"
    }
   ],
   "source": [
    "myName"
   ]
  },
  {
   "cell_type": "code",
   "execution_count": 6,
   "id": "0f5e54b9",
   "metadata": {},
   "outputs": [],
   "source": [
    "# functions"
   ]
  },
  {
   "cell_type": "code",
   "execution_count": 7,
   "id": "66e5298c",
   "metadata": {},
   "outputs": [],
   "source": [
    "def hello_python():\n",
    "    print(\"hello\")\n",
    "    print(\"python\")"
   ]
  },
  {
   "cell_type": "code",
   "execution_count": 8,
   "id": "d2d56fb6",
   "metadata": {},
   "outputs": [
    {
     "data": {
      "text/plain": [
       "<function __main__.hello_python()>"
      ]
     },
     "execution_count": 8,
     "metadata": {},
     "output_type": "execute_result"
    }
   ],
   "source": [
    "hello_python"
   ]
  },
  {
   "cell_type": "code",
   "execution_count": 9,
   "id": "9b1a3404",
   "metadata": {},
   "outputs": [
    {
     "name": "stdout",
     "output_type": "stream",
     "text": [
      "hello\n",
      "python\n"
     ]
    }
   ],
   "source": [
    "hello_python()"
   ]
  },
  {
   "cell_type": "code",
   "execution_count": 10,
   "id": "63a175de",
   "metadata": {},
   "outputs": [],
   "source": [
    "# input "
   ]
  },
  {
   "cell_type": "code",
   "execution_count": 11,
   "id": "311ec280",
   "metadata": {},
   "outputs": [],
   "source": [
    "def hello_python(name):\n",
    "    print(\"hello\")\n",
    "    print(name)  "
   ]
  },
  {
   "cell_type": "code",
   "execution_count": 13,
   "id": "0c0369c6",
   "metadata": {},
   "outputs": [
    {
     "name": "stdout",
     "output_type": "stream",
     "text": [
      "hello\n",
      "eda\n"
     ]
    }
   ],
   "source": [
    "hello_python(\"eda\")"
   ]
  },
  {
   "cell_type": "code",
   "execution_count": 14,
   "id": "288b2f81",
   "metadata": {},
   "outputs": [],
   "source": [
    "def sum_example(num1,num2):\n",
    "    print(num1+num2)"
   ]
  },
  {
   "cell_type": "code",
   "execution_count": 16,
   "id": "14b3b02a",
   "metadata": {},
   "outputs": [
    {
     "name": "stdout",
     "output_type": "stream",
     "text": [
      "15\n"
     ]
    }
   ],
   "source": [
    "sum_example(5,10)"
   ]
  },
  {
   "cell_type": "code",
   "execution_count": 2,
   "id": "1d51966c",
   "metadata": {},
   "outputs": [],
   "source": [
    "def hello_surname(surname=\"kılıç\"):\n",
    "    print(\"hello\")\n",
    "    print(surname)"
   ]
  },
  {
   "cell_type": "code",
   "execution_count": 3,
   "id": "65bb51d9",
   "metadata": {},
   "outputs": [
    {
     "name": "stdout",
     "output_type": "stream",
     "text": [
      "hello\n",
      "kılıç\n"
     ]
    }
   ],
   "source": [
    "hello_surname()"
   ]
  },
  {
   "cell_type": "code",
   "execution_count": 4,
   "id": "e3c7167a",
   "metadata": {},
   "outputs": [
    {
     "name": "stdout",
     "output_type": "stream",
     "text": [
      "hello\n",
      "öksüz\n"
     ]
    }
   ],
   "source": [
    "hello_surname(\"öksüz\")"
   ]
  },
  {
   "cell_type": "code",
   "execution_count": 22,
   "id": "962cd9df",
   "metadata": {},
   "outputs": [],
   "source": [
    "#return"
   ]
  },
  {
   "cell_type": "code",
   "execution_count": 23,
   "id": "7f5ff1f7",
   "metadata": {},
   "outputs": [],
   "source": [
    "def summation(num1,num2,num3):\n",
    "    print(num1+num2+num3)"
   ]
  },
  {
   "cell_type": "code",
   "execution_count": 33,
   "id": "cf51cbba",
   "metadata": {},
   "outputs": [
    {
     "name": "stdout",
     "output_type": "stream",
     "text": [
      "6\n"
     ]
    }
   ],
   "source": [
    "summation(1,2,3)"
   ]
  },
  {
   "cell_type": "code",
   "execution_count": 34,
   "id": "3ef9316c",
   "metadata": {},
   "outputs": [
    {
     "name": "stdout",
     "output_type": "stream",
     "text": [
      "6\n"
     ]
    }
   ],
   "source": [
    "x = summation(1,2,3)"
   ]
  },
  {
   "cell_type": "code",
   "execution_count": 35,
   "id": "bfa3f7cb",
   "metadata": {},
   "outputs": [],
   "source": [
    "x # çıktısı yok"
   ]
  },
  {
   "cell_type": "code",
   "execution_count": 27,
   "id": "239d4bd5",
   "metadata": {},
   "outputs": [
    {
     "data": {
      "text/plain": [
       "NoneType"
      ]
     },
     "execution_count": 27,
     "metadata": {},
     "output_type": "execute_result"
    }
   ],
   "source": [
    "type(x)   # x i atasanda dönüştürmez, fakat return kullanılırsa :"
   ]
  },
  {
   "cell_type": "code",
   "execution_count": 28,
   "id": "66b9e605",
   "metadata": {},
   "outputs": [],
   "source": [
    "def return_summation(num1,num2,num3):\n",
    "    return num1+num2+num3"
   ]
  },
  {
   "cell_type": "code",
   "execution_count": 30,
   "id": "4ce441bf",
   "metadata": {},
   "outputs": [],
   "source": [
    "x = return_summation(1,2,3)"
   ]
  },
  {
   "cell_type": "code",
   "execution_count": 31,
   "id": "1288e852",
   "metadata": {},
   "outputs": [
    {
     "data": {
      "text/plain": [
       "6"
      ]
     },
     "execution_count": 31,
     "metadata": {},
     "output_type": "execute_result"
    }
   ],
   "source": [
    "x #  atanmış olduğundan çıktısı var."
   ]
  },
  {
   "cell_type": "code",
   "execution_count": 38,
   "id": "87f11da7",
   "metadata": {},
   "outputs": [],
   "source": [
    "def return_summation(num1,num2,num3):\n",
    "    result = num1+num2+num3\n",
    "    print(result)\n",
    "    return result                       # return en sona yazılır, returnden sonraki fonksiyon çalışmaz."
   ]
  },
  {
   "cell_type": "code",
   "execution_count": 39,
   "id": "0d363c5e",
   "metadata": {},
   "outputs": [
    {
     "name": "stdout",
     "output_type": "stream",
     "text": [
      "6\n"
     ]
    }
   ],
   "source": [
    "x = return_summation(1,2,3)"
   ]
  },
  {
   "cell_type": "code",
   "execution_count": 40,
   "id": "27440b2a",
   "metadata": {},
   "outputs": [
    {
     "data": {
      "text/plain": [
       "6"
      ]
     },
     "execution_count": 40,
     "metadata": {},
     "output_type": "execute_result"
    }
   ],
   "source": [
    "x"
   ]
  },
  {
   "cell_type": "code",
   "execution_count": 41,
   "id": "a39abb61",
   "metadata": {},
   "outputs": [],
   "source": [
    "def control_string(s):\n",
    "    if s[0] == \"a\":\n",
    "        print(\"a\")"
   ]
  },
  {
   "cell_type": "code",
   "execution_count": 44,
   "id": "eb6f4d86",
   "metadata": {},
   "outputs": [
    {
     "name": "stdout",
     "output_type": "stream",
     "text": [
      "a\n"
     ]
    }
   ],
   "source": [
    "control_string(\"ayşe\")"
   ]
  },
  {
   "cell_type": "code",
   "execution_count": 45,
   "id": "d607df96",
   "metadata": {},
   "outputs": [],
   "source": [
    "control_string(\"eda\")"
   ]
  },
  {
   "cell_type": "code",
   "execution_count": 46,
   "id": "f2364e71",
   "metadata": {},
   "outputs": [],
   "source": [
    "# args -> arguments, kwargs -> keyword arguments"
   ]
  },
  {
   "cell_type": "code",
   "execution_count": 49,
   "id": "a80bebcd",
   "metadata": {},
   "outputs": [],
   "source": [
    "def args_sum(*args):                    # birden fazla veya sayısı belli olmayan inputlarda args kullanılır.\n",
    "    return sum(args)"
   ]
  },
  {
   "cell_type": "code",
   "execution_count": 48,
   "id": "ae52a850",
   "metadata": {},
   "outputs": [
    {
     "data": {
      "text/plain": [
       "82"
      ]
     },
     "execution_count": 48,
     "metadata": {},
     "output_type": "execute_result"
    }
   ],
   "source": [
    "args_sum(10,2,30,40)"
   ]
  },
  {
   "cell_type": "code",
   "execution_count": 50,
   "id": "4dae3c28",
   "metadata": {},
   "outputs": [],
   "source": [
    "def args_example(*args):\n",
    "    print(args)"
   ]
  },
  {
   "cell_type": "code",
   "execution_count": 51,
   "id": "fe88844f",
   "metadata": {},
   "outputs": [
    {
     "name": "stdout",
     "output_type": "stream",
     "text": [
      "(437, 58, 2398)\n"
     ]
    }
   ],
   "source": [
    "args_example(437,58,2398)"
   ]
  },
  {
   "cell_type": "code",
   "execution_count": 53,
   "id": "7a25c882",
   "metadata": {},
   "outputs": [],
   "source": [
    "def kwargs_example(**kwargs):\n",
    "    print(kwargs)"
   ]
  },
  {
   "cell_type": "code",
   "execution_count": 54,
   "id": "2ed73148",
   "metadata": {},
   "outputs": [
    {
     "name": "stdout",
     "output_type": "stream",
     "text": [
      "{'apple': 100, 'banana': 150, 'melon': 200}\n"
     ]
    }
   ],
   "source": [
    "kwargs_example(apple=100,banana=150,melon=200)"
   ]
  },
  {
   "cell_type": "code",
   "execution_count": 61,
   "id": "9d7b686d",
   "metadata": {},
   "outputs": [],
   "source": [
    "def kwargs_example2(**kwargs):\n",
    "    if \"apple\" in kwargs:\n",
    "        print(\"apple\")\n",
    "    else:\n",
    "        print(\"no\")"
   ]
  },
  {
   "cell_type": "code",
   "execution_count": 67,
   "id": "1156ecf9",
   "metadata": {},
   "outputs": [
    {
     "name": "stdout",
     "output_type": "stream",
     "text": [
      "apple\n"
     ]
    }
   ],
   "source": [
    "kwargs_example2(apple=38,banana=47)"
   ]
  },
  {
   "cell_type": "code",
   "execution_count": 68,
   "id": "4b95d891",
   "metadata": {},
   "outputs": [
    {
     "name": "stdout",
     "output_type": "stream",
     "text": [
      "no\n"
     ]
    }
   ],
   "source": [
    "kwargs_example2(banana=47)"
   ]
  }
 ],
 "metadata": {
  "kernelspec": {
   "display_name": "Python 3 (ipykernel)",
   "language": "python",
   "name": "python3"
  },
  "language_info": {
   "codemirror_mode": {
    "name": "ipython",
    "version": 3
   },
   "file_extension": ".py",
   "mimetype": "text/x-python",
   "name": "python",
   "nbconvert_exporter": "python",
   "pygments_lexer": "ipython3",
   "version": "3.10.9"
  }
 },
 "nbformat": 4,
 "nbformat_minor": 5
}
