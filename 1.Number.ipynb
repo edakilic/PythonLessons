{
 "cells": [
  {
   "cell_type": "code",
   "execution_count": 2,
   "id": "2adacc46",
   "metadata": {},
   "outputs": [],
   "source": [
    "age = 20"
   ]
  },
  {
   "cell_type": "code",
   "execution_count": 3,
   "id": "cd09ae73",
   "metadata": {},
   "outputs": [
    {
     "data": {
      "text/plain": [
       "20"
      ]
     },
     "execution_count": 3,
     "metadata": {},
     "output_type": "execute_result"
    }
   ],
   "source": [
    "age"
   ]
  },
  {
   "cell_type": "code",
   "execution_count": 4,
   "id": "8b62245b",
   "metadata": {},
   "outputs": [
    {
     "data": {
      "text/plain": [
       "40"
      ]
     },
     "execution_count": 4,
     "metadata": {},
     "output_type": "execute_result"
    }
   ],
   "source": [
    "age * 2"
   ]
  },
  {
   "cell_type": "code",
   "execution_count": 1,
   "id": "fe4a22ae",
   "metadata": {},
   "outputs": [],
   "source": [
    "#data type"
   ]
  },
  {
   "cell_type": "code",
   "execution_count": 4,
   "id": "d4786a3e",
   "metadata": {},
   "outputs": [],
   "source": [
    "age = 20"
   ]
  },
  {
   "cell_type": "code",
   "execution_count": 3,
   "id": "df370aa3",
   "metadata": {},
   "outputs": [
    {
     "data": {
      "text/plain": [
       "int"
      ]
     },
     "execution_count": 3,
     "metadata": {},
     "output_type": "execute_result"
    }
   ],
   "source": [
    "type(10)"
   ]
  },
  {
   "cell_type": "code",
   "execution_count": 5,
   "id": "82573f14",
   "metadata": {},
   "outputs": [
    {
     "data": {
      "text/plain": [
       "int"
      ]
     },
     "execution_count": 5,
     "metadata": {},
     "output_type": "execute_result"
    }
   ],
   "source": [
    "type(10*3)"
   ]
  },
  {
   "cell_type": "code",
   "execution_count": 7,
   "id": "18378e81",
   "metadata": {},
   "outputs": [],
   "source": [
    "# int -> integer -> tam sayı veri tipi"
   ]
  },
  {
   "cell_type": "code",
   "execution_count": 8,
   "id": "27a5ec29",
   "metadata": {},
   "outputs": [
    {
     "data": {
      "text/plain": [
       "int"
      ]
     },
     "execution_count": 8,
     "metadata": {},
     "output_type": "execute_result"
    }
   ],
   "source": [
    "type(-1999)"
   ]
  },
  {
   "cell_type": "code",
   "execution_count": 10,
   "id": "9e06a798",
   "metadata": {},
   "outputs": [
    {
     "data": {
      "text/plain": [
       "int"
      ]
     },
     "execution_count": 10,
     "metadata": {},
     "output_type": "execute_result"
    }
   ],
   "source": [
    "type(age)"
   ]
  },
  {
   "cell_type": "code",
   "execution_count": 11,
   "id": "886b304e",
   "metadata": {},
   "outputs": [
    {
     "data": {
      "text/plain": [
       "float"
      ]
     },
     "execution_count": 11,
     "metadata": {},
     "output_type": "execute_result"
    }
   ],
   "source": [
    "type(3.14)"
   ]
  },
  {
   "cell_type": "code",
   "execution_count": 12,
   "id": "accba391",
   "metadata": {},
   "outputs": [],
   "source": [
    "#float -> floating point -> kesirli sayılar için oluşturulmuş veri tipi"
   ]
  },
  {
   "cell_type": "code",
   "execution_count": 16,
   "id": "698e49d3",
   "metadata": {},
   "outputs": [],
   "source": [
    "myFloat = 1.377382809"
   ]
  },
  {
   "cell_type": "code",
   "execution_count": 14,
   "id": "8ed311ff",
   "metadata": {},
   "outputs": [],
   "source": [
    "#kesirli sayıları hafızada tutmak daha zor olduğu için kesirli ve tam sayıların veri tipleri farklıdır. Hafızayı daha iyi yönetmek."
   ]
  },
  {
   "cell_type": "code",
   "execution_count": 15,
   "id": "b63eb288",
   "metadata": {},
   "outputs": [],
   "source": [
    "# camelCase\n",
    "# snake_case"
   ]
  },
  {
   "cell_type": "code",
   "execution_count": 17,
   "id": "972a78b4",
   "metadata": {},
   "outputs": [
    {
     "data": {
      "text/plain": [
       "float"
      ]
     },
     "execution_count": 17,
     "metadata": {},
     "output_type": "execute_result"
    }
   ],
   "source": [
    "type (40 / 4)"
   ]
  },
  {
   "cell_type": "code",
   "execution_count": 18,
   "id": "f0e4aff0",
   "metadata": {},
   "outputs": [],
   "source": [
    "# 40 / 4 tam sayı olmasına rağmen float yazma sebebi Python iki tam sayıyı birbirine böldüğünde kesirli sayı çıkma ihtimalinin daha yüksek olduğuna karar vermiştir. Çıkan sonuçtan bağımsızdır. Bu Python'a özel bir durumdur."
   ]
  },
  {
   "cell_type": "code",
   "execution_count": 19,
   "id": "b183b8c0",
   "metadata": {},
   "outputs": [
    {
     "data": {
      "text/plain": [
       "int"
      ]
     },
     "execution_count": 19,
     "metadata": {},
     "output_type": "execute_result"
    }
   ],
   "source": [
    "type(4)"
   ]
  },
  {
   "cell_type": "code",
   "execution_count": 24,
   "id": "f6c3d281",
   "metadata": {},
   "outputs": [
    {
     "data": {
      "text/plain": [
       "float"
      ]
     },
     "execution_count": 24,
     "metadata": {},
     "output_type": "execute_result"
    }
   ],
   "source": [
    "type(4.0)"
   ]
  },
  {
   "cell_type": "code",
   "execution_count": 25,
   "id": "e439dfc1",
   "metadata": {},
   "outputs": [
    {
     "data": {
      "text/plain": [
       "32"
      ]
     },
     "execution_count": 25,
     "metadata": {},
     "output_type": "execute_result"
    }
   ],
   "source": [
    "2 ** 5 # üs"
   ]
  },
  {
   "cell_type": "code",
   "execution_count": 26,
   "id": "38aecbc9",
   "metadata": {},
   "outputs": [
    {
     "data": {
      "text/plain": [
       "1"
      ]
     },
     "execution_count": 26,
     "metadata": {},
     "output_type": "execute_result"
    }
   ],
   "source": [
    "10 % 3 # 10 u 3 e böldüğünde kalanı bulma -> remainder"
   ]
  }
 ],
 "metadata": {
  "kernelspec": {
   "display_name": "Python 3 (ipykernel)",
   "language": "python",
   "name": "python3"
  },
  "language_info": {
   "codemirror_mode": {
    "name": "ipython",
    "version": 3
   },
   "file_extension": ".py",
   "mimetype": "text/x-python",
   "name": "python",
   "nbconvert_exporter": "python",
   "pygments_lexer": "ipython3",
   "version": "3.10.9"
  }
 },
 "nbformat": 4,
 "nbformat_minor": 5
}
