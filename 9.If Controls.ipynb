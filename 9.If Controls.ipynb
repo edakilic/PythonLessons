{
 "cells": [
  {
   "cell_type": "code",
   "execution_count": 1,
   "id": "a970a8f4",
   "metadata": {},
   "outputs": [],
   "source": [
    "x = 10"
   ]
  },
  {
   "cell_type": "code",
   "execution_count": 2,
   "id": "c4ca59d9",
   "metadata": {},
   "outputs": [],
   "source": [
    "y = 8"
   ]
  },
  {
   "cell_type": "code",
   "execution_count": 3,
   "id": "5dec1bae",
   "metadata": {},
   "outputs": [
    {
     "data": {
      "text/plain": [
       "False"
      ]
     },
     "execution_count": 3,
     "metadata": {},
     "output_type": "execute_result"
    }
   ],
   "source": [
    "x == y  #eşittir."
   ]
  },
  {
   "cell_type": "code",
   "execution_count": 4,
   "id": "5803f14c",
   "metadata": {},
   "outputs": [
    {
     "data": {
      "text/plain": [
       "True"
      ]
     },
     "execution_count": 4,
     "metadata": {},
     "output_type": "execute_result"
    }
   ],
   "source": [
    "x != y  #eşit değildir."
   ]
  },
  {
   "cell_type": "code",
   "execution_count": 5,
   "id": "ffb18f01",
   "metadata": {},
   "outputs": [
    {
     "data": {
      "text/plain": [
       "True"
      ]
     },
     "execution_count": 5,
     "metadata": {},
     "output_type": "execute_result"
    }
   ],
   "source": [
    "2 > 1 and 3 > 2  #ikiside doğruysa doğru"
   ]
  },
  {
   "cell_type": "code",
   "execution_count": 6,
   "id": "c498df4b",
   "metadata": {},
   "outputs": [
    {
     "data": {
      "text/plain": [
       "False"
      ]
     },
     "execution_count": 6,
     "metadata": {},
     "output_type": "execute_result"
    }
   ],
   "source": [
    "2 > 1 and 1 > 2  #1 tanesi bile yanlışsa yanlış"
   ]
  },
  {
   "cell_type": "code",
   "execution_count": 7,
   "id": "91b01631",
   "metadata": {},
   "outputs": [
    {
     "data": {
      "text/plain": [
       "False"
      ]
     },
     "execution_count": 7,
     "metadata": {},
     "output_type": "execute_result"
    }
   ],
   "source": [
    "1 > 2 and 2 > 3  #2 tanesi yanlışsa da yanlış"
   ]
  },
  {
   "cell_type": "code",
   "execution_count": 8,
   "id": "f279ef6d",
   "metadata": {},
   "outputs": [
    {
     "data": {
      "text/plain": [
       "True"
      ]
     },
     "execution_count": 8,
     "metadata": {},
     "output_type": "execute_result"
    }
   ],
   "source": [
    "2 < 1 or 0 < 1  #biri doğru biri yanlışsa doğru çıkar"
   ]
  },
  {
   "cell_type": "code",
   "execution_count": 9,
   "id": "dd8e9d40",
   "metadata": {},
   "outputs": [
    {
     "data": {
      "text/plain": [
       "False"
      ]
     },
     "execution_count": 9,
     "metadata": {},
     "output_type": "execute_result"
    }
   ],
   "source": [
    "False or False  #ikiside yanlışsa yanlıştır."
   ]
  },
  {
   "cell_type": "code",
   "execution_count": 10,
   "id": "1030ae8b",
   "metadata": {},
   "outputs": [
    {
     "data": {
      "text/plain": [
       "False"
      ]
     },
     "execution_count": 10,
     "metadata": {},
     "output_type": "execute_result"
    }
   ],
   "source": [
    "not 1==1  # not tersine çevirir."
   ]
  },
  {
   "cell_type": "code",
   "execution_count": 11,
   "id": "e073da36",
   "metadata": {},
   "outputs": [
    {
     "data": {
      "text/plain": [
       "True"
      ]
     },
     "execution_count": 11,
     "metadata": {},
     "output_type": "execute_result"
    }
   ],
   "source": [
    "10 in [10,20,30]"
   ]
  },
  {
   "cell_type": "code",
   "execution_count": 12,
   "id": "6e16cf9a",
   "metadata": {},
   "outputs": [
    {
     "data": {
      "text/plain": [
       "True"
      ]
     },
     "execution_count": 12,
     "metadata": {},
     "output_type": "execute_result"
    }
   ],
   "source": [
    "5 not in [10,20,30]"
   ]
  },
  {
   "cell_type": "code",
   "execution_count": 13,
   "id": "7ee21df4",
   "metadata": {},
   "outputs": [],
   "source": [
    "my_superHero = \"batman\""
   ]
  },
  {
   "cell_type": "code",
   "execution_count": 14,
   "id": "5cb74f5e",
   "metadata": {},
   "outputs": [
    {
     "name": "stdout",
     "output_type": "stream",
     "text": [
      "batmann\n",
      "edakılıç\n"
     ]
    }
   ],
   "source": [
    "if my_superHero == \"batman\" :  #eğer bu kısım doğruysa aşağıdakiler çalışır.\n",
    "    print(\"batmann\")\n",
    "    print(\"edakılıç\")\n"
   ]
  },
  {
   "cell_type": "code",
   "execution_count": 15,
   "id": "0a9c1465",
   "metadata": {},
   "outputs": [
    {
     "name": "stdout",
     "output_type": "stream",
     "text": [
      "hellopython\n"
     ]
    }
   ],
   "source": [
    "if my_superHero == \"superman\" : #false çıkacağı için cevap aşağıdakiler çıkmaz.\n",
    "    print(\"batmann\")\n",
    "    print(\"edakılıç\")\n",
    "#########-----------##########\n",
    "print(\"hellopython\")             # fakat aşağıdaki yazı if döngüsüne ait olmadığından o çıkar.\n"
   ]
  },
  {
   "cell_type": "code",
   "execution_count": 17,
   "id": "4c8853f3",
   "metadata": {},
   "outputs": [
    {
     "name": "stdout",
     "output_type": "stream",
     "text": [
      "enter superhero: iron man\n"
     ]
    }
   ],
   "source": [
    "my_superHero = input(\"enter superhero: \")"
   ]
  },
  {
   "cell_type": "code",
   "execution_count": 18,
   "id": "3cdeef43",
   "metadata": {},
   "outputs": [
    {
     "name": "stdout",
     "output_type": "stream",
     "text": [
      "iron man\n"
     ]
    }
   ],
   "source": [
    "if my_superHero == \"iron man\" :\n",
    "    print(\"iron man\")\n",
    "elif my_superHero == \"batman\" :      #elif = else if\n",
    "    print(\"batman\")\n"
   ]
  },
  {
   "cell_type": "code",
   "execution_count": 20,
   "id": "bce07e87",
   "metadata": {},
   "outputs": [
    {
     "name": "stdout",
     "output_type": "stream",
     "text": [
      "hulk\n"
     ]
    }
   ],
   "source": [
    "if my_superHero == \"superman\" :\n",
    "    print(\"iron man\")\n",
    "elif my_superHero == \"batman\" :     \n",
    "    print(\"batman\")\n",
    "else:\n",
    "    print(\"hulk\")"
   ]
  },
  {
   "cell_type": "code",
   "execution_count": 6,
   "id": "09a48ccd",
   "metadata": {},
   "outputs": [],
   "source": [
    "my_age = 21"
   ]
  },
  {
   "cell_type": "code",
   "execution_count": 7,
   "id": "5a0e7d72",
   "metadata": {},
   "outputs": [
    {
     "name": "stdout",
     "output_type": "stream",
     "text": [
      "no\n"
     ]
    }
   ],
   "source": [
    "if my_age < 20:\n",
    "    print(\"yes\")\n",
    "elif my_age > 20 and my_age < 30:\n",
    "    print(\"no\")\n",
    "else:\n",
    "    print(\"okay\")"
   ]
  },
  {
   "cell_type": "code",
   "execution_count": 3,
   "id": "464a5e50",
   "metadata": {},
   "outputs": [
    {
     "name": "stdout",
     "output_type": "stream",
     "text": [
      "enter superhero:black widow\n"
     ]
    }
   ],
   "source": [
    "my_superhero = input(\"enter superhero:\")"
   ]
  },
  {
   "cell_type": "code",
   "execution_count": 4,
   "id": "674d8766",
   "metadata": {},
   "outputs": [],
   "source": [
    "my_superhero_list = [\"spiderman\", \"black widow\", \"iron man\"]"
   ]
  },
  {
   "cell_type": "code",
   "execution_count": 5,
   "id": "e2dd48ff",
   "metadata": {},
   "outputs": [
    {
     "name": "stdout",
     "output_type": "stream",
     "text": [
      ":)\n"
     ]
    }
   ],
   "source": [
    "if my_superhero in my_superhero_list:\n",
    "    print(\":)\")\n",
    "else:\n",
    "    print(\":(\")"
   ]
  },
  {
   "cell_type": "code",
   "execution_count": null,
   "id": "5f752ee4",
   "metadata": {},
   "outputs": [],
   "source": []
  }
 ],
 "metadata": {
  "kernelspec": {
   "display_name": "Python 3 (ipykernel)",
   "language": "python",
   "name": "python3"
  },
  "language_info": {
   "codemirror_mode": {
    "name": "ipython",
    "version": 3
   },
   "file_extension": ".py",
   "mimetype": "text/x-python",
   "name": "python",
   "nbconvert_exporter": "python",
   "pygments_lexer": "ipython3",
   "version": "3.10.9"
  }
 },
 "nbformat": 4,
 "nbformat_minor": 5
}
