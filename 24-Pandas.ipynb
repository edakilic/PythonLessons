{
 "cells": [
  {
   "cell_type": "code",
   "execution_count": 2,
   "id": "afa83900",
   "metadata": {},
   "outputs": [],
   "source": [
    "import pandas as pd\n",
    "import numpy as np"
   ]
  },
  {
   "cell_type": "code",
   "execution_count": 3,
   "id": "46aaa501",
   "metadata": {},
   "outputs": [],
   "source": [
    "#series"
   ]
  },
  {
   "cell_type": "code",
   "execution_count": 4,
   "id": "edd5dc49",
   "metadata": {},
   "outputs": [],
   "source": [
    "my_dict = {\"James\":50, \"Lars\":60, \"Kirk\":55, \"Rob\":65}"
   ]
  },
  {
   "cell_type": "code",
   "execution_count": 5,
   "id": "f03ad05a",
   "metadata": {},
   "outputs": [
    {
     "data": {
      "text/plain": [
       "James    50\n",
       "Lars     60\n",
       "Kirk     55\n",
       "Rob      65\n",
       "dtype: int64"
      ]
     },
     "execution_count": 5,
     "metadata": {},
     "output_type": "execute_result"
    }
   ],
   "source": [
    "pd.Series(my_dict)"
   ]
  },
  {
   "cell_type": "code",
   "execution_count": 6,
   "id": "bc8cbae2",
   "metadata": {},
   "outputs": [],
   "source": [
    "age_list = [50,60,55,65]\n",
    "name_list = [\"James\",\"Lars\",\"Kirk\",\"Rob\"]"
   ]
  },
  {
   "cell_type": "code",
   "execution_count": 7,
   "id": "931ed4ef",
   "metadata": {},
   "outputs": [
    {
     "data": {
      "text/plain": [
       "James    50\n",
       "Lars     60\n",
       "Kirk     55\n",
       "Rob      65\n",
       "dtype: int64"
      ]
     },
     "execution_count": 7,
     "metadata": {},
     "output_type": "execute_result"
    }
   ],
   "source": [
    "pd.Series(age_list, name_list)"
   ]
  },
  {
   "cell_type": "code",
   "execution_count": 8,
   "id": "84535bac",
   "metadata": {},
   "outputs": [
    {
     "data": {
      "text/plain": [
       "James    50\n",
       "Lars     60\n",
       "Kirk     55\n",
       "Rob      65\n",
       "dtype: int64"
      ]
     },
     "execution_count": 8,
     "metadata": {},
     "output_type": "execute_result"
    }
   ],
   "source": [
    "pd.Series(data=age_list, index=name_list)"
   ]
  },
  {
   "cell_type": "code",
   "execution_count": 16,
   "id": "d2ff9efd",
   "metadata": {},
   "outputs": [],
   "source": [
    "numpy_array = np.arange(10,20)"
   ]
  },
  {
   "cell_type": "code",
   "execution_count": 17,
   "id": "fca16aaa",
   "metadata": {},
   "outputs": [
    {
     "data": {
      "text/plain": [
       "array([10, 11, 12, 13, 14, 15, 16, 17, 18, 19])"
      ]
     },
     "execution_count": 17,
     "metadata": {},
     "output_type": "execute_result"
    }
   ],
   "source": [
    "numpy_array"
   ]
  },
  {
   "cell_type": "code",
   "execution_count": 18,
   "id": "08024fd6",
   "metadata": {},
   "outputs": [
    {
     "data": {
      "text/plain": [
       "0    10\n",
       "1    11\n",
       "2    12\n",
       "3    13\n",
       "4    14\n",
       "5    15\n",
       "6    16\n",
       "7    17\n",
       "8    18\n",
       "9    19\n",
       "dtype: int32"
      ]
     },
     "execution_count": 18,
     "metadata": {},
     "output_type": "execute_result"
    }
   ],
   "source": [
    "pd.Series(numpy_array)"
   ]
  },
  {
   "cell_type": "code",
   "execution_count": null,
   "id": "02349771",
   "metadata": {},
   "outputs": [],
   "source": []
  }
 ],
 "metadata": {
  "kernelspec": {
   "display_name": "Python 3 (ipykernel)",
   "language": "python",
   "name": "python3"
  },
  "language_info": {
   "codemirror_mode": {
    "name": "ipython",
    "version": 3
   },
   "file_extension": ".py",
   "mimetype": "text/x-python",
   "name": "python",
   "nbconvert_exporter": "python",
   "pygments_lexer": "ipython3",
   "version": "3.10.9"
  }
 },
 "nbformat": 4,
 "nbformat_minor": 5
}
