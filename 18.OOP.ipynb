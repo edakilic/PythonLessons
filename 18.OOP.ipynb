{
 "cells": [
  {
   "cell_type": "markdown",
   "id": "f57d6473",
   "metadata": {},
   "source": [
    "# inheritance\n"
   ]
  },
  {
   "cell_type": "code",
   "execution_count": 1,
   "id": "07aaa7af",
   "metadata": {},
   "outputs": [],
   "source": [
    "# Kalıtım almak "
   ]
  },
  {
   "cell_type": "code",
   "execution_count": 2,
   "id": "a3011b62",
   "metadata": {},
   "outputs": [],
   "source": [
    "class Musician():\n",
    "    \n",
    "    def __init__(self,name):\n",
    "        self.name = name\n",
    "        print(\"musician class\")\n",
    "        \n",
    "    def test1(self):\n",
    "        print(\"test1\")\n",
    "    \n",
    "    def test2(self):\n",
    "        print(\"test2\")"
   ]
  },
  {
   "cell_type": "code",
   "execution_count": 3,
   "id": "f3dee24c",
   "metadata": {},
   "outputs": [
    {
     "name": "stdout",
     "output_type": "stream",
     "text": [
      "musician class\n"
     ]
    }
   ],
   "source": [
    "eda = Musician(\"Eda\")"
   ]
  },
  {
   "cell_type": "code",
   "execution_count": 4,
   "id": "cb647f0e",
   "metadata": {},
   "outputs": [
    {
     "data": {
      "text/plain": [
       "'Eda'"
      ]
     },
     "execution_count": 4,
     "metadata": {},
     "output_type": "execute_result"
    }
   ],
   "source": [
    "eda.name"
   ]
  },
  {
   "cell_type": "code",
   "execution_count": 5,
   "id": "28c14dc9",
   "metadata": {},
   "outputs": [
    {
     "name": "stdout",
     "output_type": "stream",
     "text": [
      "test1\n"
     ]
    }
   ],
   "source": [
    "eda.test1()"
   ]
  },
  {
   "cell_type": "code",
   "execution_count": 6,
   "id": "1802fc6e",
   "metadata": {},
   "outputs": [
    {
     "name": "stdout",
     "output_type": "stream",
     "text": [
      "test2\n"
     ]
    }
   ],
   "source": [
    "eda.test2()"
   ]
  },
  {
   "cell_type": "code",
   "execution_count": 7,
   "id": "91276075",
   "metadata": {},
   "outputs": [],
   "source": [
    "class MusicianPlus(Musician):\n",
    "    \n",
    "    def __init__(self,name):\n",
    "        Musician.__init__(self,name)\n",
    "        print(\"musician plus\")\n",
    "        \n",
    "    def test3(self):\n",
    "        print(\"test3\")"
   ]
  },
  {
   "cell_type": "code",
   "execution_count": 8,
   "id": "b8cab099",
   "metadata": {},
   "outputs": [
    {
     "name": "stdout",
     "output_type": "stream",
     "text": [
      "musician class\n",
      "musician plus\n"
     ]
    }
   ],
   "source": [
    "atlas = MusicianPlus(\"Atlas\")"
   ]
  },
  {
   "cell_type": "code",
   "execution_count": 9,
   "id": "3624bd12",
   "metadata": {},
   "outputs": [],
   "source": [
    "#atlas.test1 ve atlas.test2 de otamatik gelir yukarıdaki inheritance yöntemiyle"
   ]
  },
  {
   "cell_type": "code",
   "execution_count": 10,
   "id": "49c39757",
   "metadata": {},
   "outputs": [
    {
     "name": "stdout",
     "output_type": "stream",
     "text": [
      "test3\n"
     ]
    }
   ],
   "source": [
    "atlas.test3() # atlas musician ve musician plusın kodlarını çalıştırabiliyoken"
   ]
  },
  {
   "cell_type": "code",
   "execution_count": 11,
   "id": "5fc0a701",
   "metadata": {},
   "outputs": [],
   "source": [
    "#eda.test3() çalışmaz.  # eda sadece musician'ın kodlarını çalıştırabilir."
   ]
  },
  {
   "cell_type": "markdown",
   "id": "60f26c63",
   "metadata": {},
   "source": [
    "# polymorphism\n"
   ]
  },
  {
   "cell_type": "code",
   "execution_count": 12,
   "id": "73d7a5bd",
   "metadata": {},
   "outputs": [],
   "source": [
    "# Aynı isimle farklı bir işi yapmak."
   ]
  },
  {
   "cell_type": "code",
   "execution_count": 13,
   "id": "5de9a465",
   "metadata": {},
   "outputs": [],
   "source": [
    "class Banana():\n",
    "    \n",
    "    def __init__(self,name):\n",
    "        self.name = name\n",
    "    \n",
    "    def info(self):\n",
    "        return f\"100 calorie {self.name}\"\n",
    "    \n",
    "class Apple():\n",
    "    \n",
    "    def __init__(self,name):\n",
    "        self.name = name\n",
    "    \n",
    "    def info(self):\n",
    "        return f\"150 calorie {self.name}\""
   ]
  },
  {
   "cell_type": "code",
   "execution_count": 14,
   "id": "b1d88f35",
   "metadata": {},
   "outputs": [],
   "source": [
    "banana = Banana(\"banana\")"
   ]
  },
  {
   "cell_type": "code",
   "execution_count": 15,
   "id": "f31f9ee4",
   "metadata": {},
   "outputs": [],
   "source": [
    "apple = Apple(\"apple\")"
   ]
  },
  {
   "cell_type": "code",
   "execution_count": 16,
   "id": "f1592921",
   "metadata": {},
   "outputs": [
    {
     "data": {
      "text/plain": [
       "'100 calorie banana'"
      ]
     },
     "execution_count": 16,
     "metadata": {},
     "output_type": "execute_result"
    }
   ],
   "source": [
    "banana.info()"
   ]
  },
  {
   "cell_type": "code",
   "execution_count": 17,
   "id": "8fa1def6",
   "metadata": {},
   "outputs": [
    {
     "data": {
      "text/plain": [
       "'150 calorie apple'"
      ]
     },
     "execution_count": 17,
     "metadata": {},
     "output_type": "execute_result"
    }
   ],
   "source": [
    "apple.info()"
   ]
  },
  {
   "cell_type": "code",
   "execution_count": 18,
   "id": "f8f0c6b4",
   "metadata": {},
   "outputs": [],
   "source": [
    "fruitList = [banana,apple]"
   ]
  },
  {
   "cell_type": "code",
   "execution_count": 19,
   "id": "e08fcd01",
   "metadata": {},
   "outputs": [
    {
     "name": "stdout",
     "output_type": "stream",
     "text": [
      "100 calorie banana\n",
      "150 calorie apple\n"
     ]
    }
   ],
   "source": [
    "for fruit in fruitList:\n",
    "    print(fruit.info())   "
   ]
  },
  {
   "cell_type": "markdown",
   "id": "35cf62fe",
   "metadata": {},
   "source": [
    "# encapsulation\n"
   ]
  },
  {
   "cell_type": "code",
   "execution_count": 20,
   "id": "1379343b",
   "metadata": {},
   "outputs": [],
   "source": [
    "# Hapsetmek, oluşturduğumuz kodların nereden kimin tarafından erişebileceği"
   ]
  },
  {
   "cell_type": "code",
   "execution_count": 21,
   "id": "e28709e9",
   "metadata": {},
   "outputs": [],
   "source": [
    "class Phone():\n",
    "    def __init__(self,name,price):\n",
    "        self.name = name\n",
    "        self.price = price\n",
    "        \n",
    "    def info(self):\n",
    "        print(f\"{self.name} price is: {self.price}\")"
   ]
  },
  {
   "cell_type": "code",
   "execution_count": 22,
   "id": "b98d1949",
   "metadata": {},
   "outputs": [],
   "source": [
    "iphone = Phone(\"iphone 14\",500)"
   ]
  },
  {
   "cell_type": "code",
   "execution_count": 23,
   "id": "0df1b3d9",
   "metadata": {},
   "outputs": [
    {
     "name": "stdout",
     "output_type": "stream",
     "text": [
      "iphone 14 price is: 500\n"
     ]
    }
   ],
   "source": [
    "iphone.info()"
   ]
  },
  {
   "cell_type": "code",
   "execution_count": 24,
   "id": "08e70049",
   "metadata": {},
   "outputs": [],
   "source": [
    "iphone.price = 400    # bu şekilde fiyat değiştirilebilir. Değiştirilememesi için:"
   ]
  },
  {
   "cell_type": "code",
   "execution_count": 25,
   "id": "e4d79c22",
   "metadata": {},
   "outputs": [
    {
     "name": "stdout",
     "output_type": "stream",
     "text": [
      "iphone 14 price is: 400\n"
     ]
    }
   ],
   "source": [
    "iphone.info()"
   ]
  },
  {
   "cell_type": "code",
   "execution_count": 26,
   "id": "98c61ca2",
   "metadata": {},
   "outputs": [],
   "source": [
    "class Phone():\n",
    "    def __init__(self,name,price):\n",
    "        self.name = name\n",
    "        self.__price = price           # __ koyulmalı değiştirilmesi istenmeyen şeye. \n",
    "                                       # Yalnızca buradan değiştirilmesi istenen şeye ulaşılabilir.\n",
    "    def info(self):\n",
    "        print(f\"{self.name} price is: {self.__price}\")"
   ]
  },
  {
   "cell_type": "code",
   "execution_count": 27,
   "id": "556ad4bb",
   "metadata": {},
   "outputs": [],
   "source": [
    "iphone = Phone(\"iphone 14\",500)"
   ]
  },
  {
   "cell_type": "code",
   "execution_count": 28,
   "id": "367c61d3",
   "metadata": {},
   "outputs": [
    {
     "name": "stdout",
     "output_type": "stream",
     "text": [
      "iphone 14 price is: 500\n"
     ]
    }
   ],
   "source": [
    "iphone.info()"
   ]
  },
  {
   "cell_type": "code",
   "execution_count": 29,
   "id": "9368d266",
   "metadata": {},
   "outputs": [],
   "source": [
    "iphone.__price = 400"
   ]
  },
  {
   "cell_type": "code",
   "execution_count": 30,
   "id": "114f7ed5",
   "metadata": {},
   "outputs": [
    {
     "name": "stdout",
     "output_type": "stream",
     "text": [
      "iphone 14 price is: 500\n"
     ]
    }
   ],
   "source": [
    "iphone.info()"
   ]
  },
  {
   "cell_type": "code",
   "execution_count": 31,
   "id": "98ca3dc5",
   "metadata": {},
   "outputs": [],
   "source": [
    "class Phone():\n",
    "    def __init__(self,name,price):\n",
    "        self.name = name\n",
    "        self.__price = price           \n",
    "                                      \n",
    "    def info(self):\n",
    "        print(f\"{self.name} price is: {self.__price}\")\n",
    "       \n",
    "    #değiştirilebilmesi için:\n",
    "    def ChangePrice(self,price):\n",
    "        self.__price = price"
   ]
  },
  {
   "cell_type": "code",
   "execution_count": 32,
   "id": "bbfd0f99",
   "metadata": {},
   "outputs": [],
   "source": [
    "iphone = Phone(\"iphone 14\",500)"
   ]
  },
  {
   "cell_type": "code",
   "execution_count": 33,
   "id": "8e41bf39",
   "metadata": {},
   "outputs": [
    {
     "name": "stdout",
     "output_type": "stream",
     "text": [
      "iphone 14 price is: 500\n"
     ]
    }
   ],
   "source": [
    "iphone.info()"
   ]
  },
  {
   "cell_type": "code",
   "execution_count": 34,
   "id": "6123b7c7",
   "metadata": {},
   "outputs": [],
   "source": [
    "iphone.ChangePrice(300)"
   ]
  },
  {
   "cell_type": "code",
   "execution_count": 35,
   "id": "af995a8e",
   "metadata": {},
   "outputs": [
    {
     "name": "stdout",
     "output_type": "stream",
     "text": [
      "iphone 14 price is: 300\n"
     ]
    }
   ],
   "source": [
    "iphone.info()"
   ]
  },
  {
   "cell_type": "markdown",
   "id": "ff359496",
   "metadata": {},
   "source": [
    "# abstraction\n"
   ]
  },
  {
   "cell_type": "code",
   "execution_count": 36,
   "id": "e8b19000",
   "metadata": {},
   "outputs": [],
   "source": [
    "# Soyutlama, plan yapmak, soyut bir sınıf oluşturarak kendisi değil yapısının kullanmak."
   ]
  },
  {
   "cell_type": "code",
   "execution_count": 37,
   "id": "6eac0e24",
   "metadata": {},
   "outputs": [],
   "source": [
    "from abc import ABC, abstractmethod"
   ]
  },
  {
   "cell_type": "code",
   "execution_count": 38,
   "id": "16fffed7",
   "metadata": {},
   "outputs": [],
   "source": [
    "class Car(ABC):\n",
    "    \n",
    "    @abstractmethod\n",
    "    def maxSpeed(self):\n",
    "        pass  "
   ]
  },
  {
   "cell_type": "code",
   "execution_count": 39,
   "id": "9b9353e5",
   "metadata": {},
   "outputs": [
    {
     "ename": "TypeError",
     "evalue": "Can't instantiate abstract class Car with abstract method maxSpeed",
     "output_type": "error",
     "traceback": [
      "\u001b[1;31m---------------------------------------------------------------------------\u001b[0m",
      "\u001b[1;31mTypeError\u001b[0m                                 Traceback (most recent call last)",
      "Cell \u001b[1;32mIn[39], line 1\u001b[0m\n\u001b[1;32m----> 1\u001b[0m myCar \u001b[38;5;241m=\u001b[39m \u001b[43mCar\u001b[49m\u001b[43m(\u001b[49m\u001b[43m)\u001b[49m\n",
      "\u001b[1;31mTypeError\u001b[0m: Can't instantiate abstract class Car with abstract method maxSpeed"
     ]
    }
   ],
   "source": [
    "myCar = Car() # soyut sınıftan bir object oluşturulamaz."
   ]
  },
  {
   "cell_type": "code",
   "execution_count": 41,
   "id": "143fe22c",
   "metadata": {},
   "outputs": [],
   "source": [
    "class Tesla(Car):\n",
    "    \n",
    "    def maxSpeed(self):\n",
    "        print(\"200km\")"
   ]
  },
  {
   "cell_type": "code",
   "execution_count": 42,
   "id": "d67697d3",
   "metadata": {},
   "outputs": [],
   "source": [
    "tesla = Tesla()"
   ]
  },
  {
   "cell_type": "code",
   "execution_count": 44,
   "id": "da78b0d7",
   "metadata": {},
   "outputs": [
    {
     "name": "stdout",
     "output_type": "stream",
     "text": [
      "200km\n"
     ]
    }
   ],
   "source": [
    "tesla.maxSpeed()"
   ]
  },
  {
   "cell_type": "markdown",
   "id": "13560fc0",
   "metadata": {},
   "source": [
    "# special methods"
   ]
  },
  {
   "cell_type": "code",
   "execution_count": 59,
   "id": "86b2d144",
   "metadata": {},
   "outputs": [],
   "source": [
    "class Fruit():\n",
    "    \n",
    "    def __init__(self,name,calorie):\n",
    "        self.name = name\n",
    "        self.calorie = calorie    \n",
    "        \n",
    "    def __str__(self):\n",
    "        return f\"{self.name}: {self.calorie} calories\"\n",
    "    \n",
    "    def __len__(self):\n",
    "        return self.calorie"
   ]
  },
  {
   "cell_type": "code",
   "execution_count": 60,
   "id": "b826e4a7",
   "metadata": {},
   "outputs": [],
   "source": [
    "myFruit = Fruit(\"banana\",150)"
   ]
  },
  {
   "cell_type": "code",
   "execution_count": 61,
   "id": "cf532b23",
   "metadata": {},
   "outputs": [
    {
     "data": {
      "text/plain": [
       "'banana'"
      ]
     },
     "execution_count": 61,
     "metadata": {},
     "output_type": "execute_result"
    }
   ],
   "source": [
    "myFruit.name"
   ]
  },
  {
   "cell_type": "code",
   "execution_count": 62,
   "id": "3b3cc053",
   "metadata": {},
   "outputs": [
    {
     "data": {
      "text/plain": [
       "150"
      ]
     },
     "execution_count": 62,
     "metadata": {},
     "output_type": "execute_result"
    }
   ],
   "source": [
    "myFruit.calorie"
   ]
  },
  {
   "cell_type": "code",
   "execution_count": 63,
   "id": "b7188771",
   "metadata": {},
   "outputs": [
    {
     "name": "stdout",
     "output_type": "stream",
     "text": [
      "banana: 150 calories\n"
     ]
    }
   ],
   "source": [
    "print(myFruit)"
   ]
  },
  {
   "cell_type": "code",
   "execution_count": 65,
   "id": "6d29961d",
   "metadata": {},
   "outputs": [
    {
     "data": {
      "text/plain": [
       "150"
      ]
     },
     "execution_count": 65,
     "metadata": {},
     "output_type": "execute_result"
    }
   ],
   "source": [
    "len(myFruit)"
   ]
  }
 ],
 "metadata": {
  "kernelspec": {
   "display_name": "Python 3 (ipykernel)",
   "language": "python",
   "name": "python3"
  },
  "language_info": {
   "codemirror_mode": {
    "name": "ipython",
    "version": 3
   },
   "file_extension": ".py",
   "mimetype": "text/x-python",
   "name": "python",
   "nbconvert_exporter": "python",
   "pygments_lexer": "ipython3",
   "version": "3.10.9"
  }
 },
 "nbformat": 4,
 "nbformat_minor": 5
}
