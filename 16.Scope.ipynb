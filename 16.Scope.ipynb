{
 "cells": [
  {
   "cell_type": "code",
   "execution_count": 3,
   "id": "94417c9a",
   "metadata": {},
   "outputs": [],
   "source": [
    "x = 20\n",
    "def multiply(num):\n",
    "        x = 5\n",
    "        return num * x  "
   ]
  },
  {
   "cell_type": "code",
   "execution_count": 7,
   "id": "0b74832b",
   "metadata": {},
   "outputs": [
    {
     "data": {
      "text/plain": [
       "50"
      ]
     },
     "execution_count": 7,
     "metadata": {},
     "output_type": "execute_result"
    }
   ],
   "source": [
    "multiply(10)  # x'in değeri 5"
   ]
  },
  {
   "cell_type": "code",
   "execution_count": 6,
   "id": "cdc3745e",
   "metadata": {},
   "outputs": [
    {
     "name": "stdout",
     "output_type": "stream",
     "text": [
      "20\n"
     ]
    }
   ],
   "source": [
    "print(x)"
   ]
  },
  {
   "cell_type": "code",
   "execution_count": 8,
   "id": "ab3b9c5b",
   "metadata": {},
   "outputs": [],
   "source": [
    "# x'lerin değerleri neden farklı ?"
   ]
  },
  {
   "cell_type": "code",
   "execution_count": 9,
   "id": "e1ee40e3",
   "metadata": {},
   "outputs": [],
   "source": [
    "# yukarıdaki örnekte x'lerin kapsamları farklı yukarıda x = 20 aşağıdaki fonksiyona bağlı değil."
   ]
  },
  {
   "cell_type": "code",
   "execution_count": 10,
   "id": "0febf57c",
   "metadata": {},
   "outputs": [],
   "source": [
    "x = 20\n",
    "def multiply(num):\n",
    "        return num * x  "
   ]
  },
  {
   "cell_type": "code",
   "execution_count": 12,
   "id": "16fcdc4e",
   "metadata": {},
   "outputs": [
    {
     "data": {
      "text/plain": [
       "200"
      ]
     },
     "execution_count": 12,
     "metadata": {},
     "output_type": "execute_result"
    }
   ],
   "source": [
    "multiply(10)   # x fonksiyonda tanımlı olmayınca yukarıdaki x değerini kullanır."
   ]
  },
  {
   "cell_type": "code",
   "execution_count": 13,
   "id": "74b67dc8",
   "metadata": {},
   "outputs": [],
   "source": [
    "# BUNUN İÇİN PYTHON'UN KARAR VERME MEKANİZMASI:"
   ]
  },
  {
   "cell_type": "markdown",
   "id": "f3a063de",
   "metadata": {},
   "source": [
    "# LEGB -> L:Local, E:Enclosing, G:Global, B:Built-In"
   ]
  },
  {
   "cell_type": "code",
   "execution_count": 21,
   "id": "16717c40",
   "metadata": {},
   "outputs": [],
   "source": [
    "#Global\n",
    "myString = \"Eda\"\n",
    "\n",
    "def myFunction():\n",
    "    #Enclosing\n",
    "    myString = \"Eda 2\"\n",
    "    \n",
    "    def myFunction2():\n",
    "        #Local\n",
    "        myString = \"Eda 3\"\n",
    "        print(myString)\n",
    "        \n",
    "    myFunction2()"
   ]
  },
  {
   "cell_type": "code",
   "execution_count": 20,
   "id": "3b934a94",
   "metadata": {},
   "outputs": [
    {
     "data": {
      "text/plain": [
       "'Eda'"
      ]
     },
     "execution_count": 20,
     "metadata": {},
     "output_type": "execute_result"
    }
   ],
   "source": [
    "myString"
   ]
  },
  {
   "cell_type": "code",
   "execution_count": 19,
   "id": "547505ce",
   "metadata": {},
   "outputs": [
    {
     "name": "stdout",
     "output_type": "stream",
     "text": [
      "Eda 3\n"
     ]
    }
   ],
   "source": [
    "myFunction()"
   ]
  },
  {
   "cell_type": "code",
   "execution_count": 22,
   "id": "d991ba8e",
   "metadata": {},
   "outputs": [],
   "source": [
    "def test1():\n",
    "    myVariable = 10\n",
    "    print(myVariable * 2)"
   ]
  },
  {
   "cell_type": "code",
   "execution_count": 26,
   "id": "ff1fbdc3",
   "metadata": {},
   "outputs": [],
   "source": [
    "def test2():\n",
    "    print(myVariable * 3)"
   ]
  },
  {
   "cell_type": "code",
   "execution_count": 27,
   "id": "6d6495c8",
   "metadata": {},
   "outputs": [
    {
     "ename": "NameError",
     "evalue": "name 'myVariable' is not defined",
     "output_type": "error",
     "traceback": [
      "\u001b[1;31m---------------------------------------------------------------------------\u001b[0m",
      "\u001b[1;31mNameError\u001b[0m                                 Traceback (most recent call last)",
      "Cell \u001b[1;32mIn[27], line 1\u001b[0m\n\u001b[1;32m----> 1\u001b[0m \u001b[43mtest2\u001b[49m\u001b[43m(\u001b[49m\u001b[43m)\u001b[49m\n",
      "Cell \u001b[1;32mIn[26], line 2\u001b[0m, in \u001b[0;36mtest2\u001b[1;34m()\u001b[0m\n\u001b[0;32m      1\u001b[0m \u001b[38;5;28;01mdef\u001b[39;00m \u001b[38;5;21mtest2\u001b[39m():\n\u001b[1;32m----> 2\u001b[0m     \u001b[38;5;28mprint\u001b[39m(\u001b[43mmyVariable\u001b[49m \u001b[38;5;241m*\u001b[39m \u001b[38;5;241m3\u001b[39m)\n",
      "\u001b[1;31mNameError\u001b[0m: name 'myVariable' is not defined"
     ]
    }
   ],
   "source": [
    "test2()            # kapsamlar farklı olduğu için test2 çalışmaz."
   ]
  },
  {
   "cell_type": "code",
   "execution_count": 28,
   "id": "142ae080",
   "metadata": {},
   "outputs": [
    {
     "name": "stdout",
     "output_type": "stream",
     "text": [
      "20\n"
     ]
    }
   ],
   "source": [
    "test1()"
   ]
  },
  {
   "cell_type": "code",
   "execution_count": 29,
   "id": "ccd58ca1",
   "metadata": {},
   "outputs": [],
   "source": [
    "myVariable = 10\n",
    "def test1():\n",
    "    print(myVariable * 2)\n",
    "    \n",
    "def test2():\n",
    "    print(myVariable * 3)"
   ]
  },
  {
   "cell_type": "code",
   "execution_count": 30,
   "id": "9ef09704",
   "metadata": {},
   "outputs": [
    {
     "name": "stdout",
     "output_type": "stream",
     "text": [
      "20\n"
     ]
    }
   ],
   "source": [
    "test1()"
   ]
  },
  {
   "cell_type": "code",
   "execution_count": 31,
   "id": "1aecc17e",
   "metadata": {},
   "outputs": [
    {
     "name": "stdout",
     "output_type": "stream",
     "text": [
      "30\n"
     ]
    }
   ],
   "source": [
    "test2()"
   ]
  },
  {
   "cell_type": "code",
   "execution_count": 32,
   "id": "51d49af5",
   "metadata": {},
   "outputs": [],
   "source": [
    "y = 10\n",
    "def newFunction(y):\n",
    "    print(y)\n",
    "    y=5\n",
    "    print(y)\n",
    "    return y"
   ]
  },
  {
   "cell_type": "code",
   "execution_count": 34,
   "id": "0f271c19",
   "metadata": {},
   "outputs": [
    {
     "name": "stdout",
     "output_type": "stream",
     "text": [
      "10\n",
      "5\n"
     ]
    },
    {
     "data": {
      "text/plain": [
       "5"
      ]
     },
     "execution_count": 34,
     "metadata": {},
     "output_type": "execute_result"
    }
   ],
   "source": [
    "newFunction(10)"
   ]
  },
  {
   "cell_type": "code",
   "execution_count": 35,
   "id": "0b2fb4a8",
   "metadata": {},
   "outputs": [
    {
     "data": {
      "text/plain": [
       "10"
      ]
     },
     "execution_count": 35,
     "metadata": {},
     "output_type": "execute_result"
    }
   ],
   "source": [
    "y   # y'nin değeri değişmemiş."
   ]
  },
  {
   "cell_type": "code",
   "execution_count": 36,
   "id": "73d8cb22",
   "metadata": {},
   "outputs": [],
   "source": [
    "y = 10\n",
    "def changeY():\n",
    "    global y\n",
    "    y = 5\n",
    "    print(y)"
   ]
  },
  {
   "cell_type": "code",
   "execution_count": 37,
   "id": "68dae9f5",
   "metadata": {},
   "outputs": [
    {
     "name": "stdout",
     "output_type": "stream",
     "text": [
      "5\n"
     ]
    }
   ],
   "source": [
    "changeY()"
   ]
  },
  {
   "cell_type": "code",
   "execution_count": 38,
   "id": "5d74cc58",
   "metadata": {},
   "outputs": [
    {
     "data": {
      "text/plain": [
       "5"
      ]
     },
     "execution_count": 38,
     "metadata": {},
     "output_type": "execute_result"
    }
   ],
   "source": [
    "y   # y'nin değeri değişir."
   ]
  },
  {
   "cell_type": "code",
   "execution_count": null,
   "id": "a02d4530",
   "metadata": {},
   "outputs": [],
   "source": []
  }
 ],
 "metadata": {
  "kernelspec": {
   "display_name": "Python 3 (ipykernel)",
   "language": "python",
   "name": "python3"
  },
  "language_info": {
   "codemirror_mode": {
    "name": "ipython",
    "version": 3
   },
   "file_extension": ".py",
   "mimetype": "text/x-python",
   "name": "python",
   "nbconvert_exporter": "python",
   "pygments_lexer": "ipython3",
   "version": "3.10.9"
  }
 },
 "nbformat": 4,
 "nbformat_minor": 5
}
