{
 "cells": [
  {
   "cell_type": "code",
   "execution_count": 1,
   "id": "d07711cf",
   "metadata": {},
   "outputs": [],
   "source": [
    "#key - value pairing"
   ]
  },
  {
   "cell_type": "code",
   "execution_count": 3,
   "id": "6312587f",
   "metadata": {},
   "outputs": [],
   "source": [
    "fruit_list = [\"banana\",\"apple\"]"
   ]
  },
  {
   "cell_type": "code",
   "execution_count": 4,
   "id": "45823de8",
   "metadata": {},
   "outputs": [],
   "source": [
    "calorie_list = [100,150]"
   ]
  },
  {
   "cell_type": "code",
   "execution_count": 5,
   "id": "31f77c19",
   "metadata": {},
   "outputs": [],
   "source": [
    "fitness_dictionary = {\"banana\":100, \"apple\":150}"
   ]
  },
  {
   "cell_type": "code",
   "execution_count": 6,
   "id": "8ca6e20f",
   "metadata": {},
   "outputs": [
    {
     "data": {
      "text/plain": [
       "dict"
      ]
     },
     "execution_count": 6,
     "metadata": {},
     "output_type": "execute_result"
    }
   ],
   "source": [
    "type(fitness_dictionary) #dict -> dictionary -> sözlük"
   ]
  },
  {
   "cell_type": "code",
   "execution_count": 9,
   "id": "149c2048",
   "metadata": {},
   "outputs": [
    {
     "data": {
      "text/plain": [
       "100"
      ]
     },
     "execution_count": 9,
     "metadata": {},
     "output_type": "execute_result"
    }
   ],
   "source": [
    "fitness_dictionary[\"banana\"]"
   ]
  },
  {
   "cell_type": "code",
   "execution_count": 10,
   "id": "f5d5efa6",
   "metadata": {},
   "outputs": [
    {
     "data": {
      "text/plain": [
       "dict_keys(['banana', 'apple'])"
      ]
     },
     "execution_count": 10,
     "metadata": {},
     "output_type": "execute_result"
    }
   ],
   "source": [
    "fitness_dictionary.keys()"
   ]
  },
  {
   "cell_type": "code",
   "execution_count": 12,
   "id": "1ac82776",
   "metadata": {},
   "outputs": [
    {
     "data": {
      "text/plain": [
       "dict_values([100, 150])"
      ]
     },
     "execution_count": 12,
     "metadata": {},
     "output_type": "execute_result"
    }
   ],
   "source": [
    "fitness_dictionary.values()"
   ]
  },
  {
   "cell_type": "code",
   "execution_count": 13,
   "id": "1afb43d1",
   "metadata": {},
   "outputs": [],
   "source": [
    "fitness_dictionary[\"banana\"] = 200  #değer bu şekilde değiştirilebilir."
   ]
  },
  {
   "cell_type": "code",
   "execution_count": 14,
   "id": "219ae268",
   "metadata": {},
   "outputs": [
    {
     "data": {
      "text/plain": [
       "200"
      ]
     },
     "execution_count": 14,
     "metadata": {},
     "output_type": "execute_result"
    }
   ],
   "source": [
    "fitness_dictionary[\"banana\"]"
   ]
  },
  {
   "cell_type": "code",
   "execution_count": 15,
   "id": "8daa1357",
   "metadata": {},
   "outputs": [],
   "source": [
    "fitness_dictionary[\"melon\"] = 300  #bu şekilde yeni veri eklenebilir."
   ]
  },
  {
   "cell_type": "code",
   "execution_count": 16,
   "id": "bc27343a",
   "metadata": {},
   "outputs": [
    {
     "data": {
      "text/plain": [
       "{'banana': 200, 'apple': 150, 'melon': 300}"
      ]
     },
     "execution_count": 16,
     "metadata": {},
     "output_type": "execute_result"
    }
   ],
   "source": [
    "fitness_dictionary"
   ]
  },
  {
   "cell_type": "code",
   "execution_count": 19,
   "id": "c8a86961",
   "metadata": {},
   "outputs": [
    {
     "data": {
      "text/plain": [
       "150"
      ]
     },
     "execution_count": 19,
     "metadata": {},
     "output_type": "execute_result"
    }
   ],
   "source": [
    "fitness_dictionary.get(\"apple\",0) #apple doğru yazıldığında 150 verir."
   ]
  },
  {
   "cell_type": "code",
   "execution_count": 20,
   "id": "e0d54678",
   "metadata": {},
   "outputs": [
    {
     "data": {
      "text/plain": [
       "0"
      ]
     },
     "execution_count": 20,
     "metadata": {},
     "output_type": "execute_result"
    }
   ],
   "source": [
    "fitness_dictionary.get(\"appl\",0) #fakat yanlış yazılırsa, uygulama çöketmemek için bu şekilde başka değer atanabilir."
   ]
  },
  {
   "cell_type": "code",
   "execution_count": 25,
   "id": "3dc53c59",
   "metadata": {},
   "outputs": [],
   "source": [
    "my_mixed_dictionary = {\"key1\":100,\"key2\":3.14,\"key3\":[10,20,30]}"
   ]
  },
  {
   "cell_type": "code",
   "execution_count": 26,
   "id": "03522fce",
   "metadata": {},
   "outputs": [
    {
     "data": {
      "text/plain": [
       "[10, 20, 30]"
      ]
     },
     "execution_count": 26,
     "metadata": {},
     "output_type": "execute_result"
    }
   ],
   "source": [
    "my_mixed_dictionary[\"key3\"]"
   ]
  },
  {
   "cell_type": "code",
   "execution_count": 27,
   "id": "64ecc33f",
   "metadata": {},
   "outputs": [
    {
     "data": {
      "text/plain": [
       "20"
      ]
     },
     "execution_count": 27,
     "metadata": {},
     "output_type": "execute_result"
    }
   ],
   "source": [
    "my_mixed_dictionary[\"key3\"][1]"
   ]
  },
  {
   "cell_type": "code",
   "execution_count": 32,
   "id": "f061e6e3",
   "metadata": {},
   "outputs": [],
   "source": [
    "last_dictionary = {\"k1\":10,\"k2\":[10,20,30,40,50],\"k3\":\"string\",\"k4\":{\"a\":100,\"b\":200}}"
   ]
  },
  {
   "cell_type": "code",
   "execution_count": 33,
   "id": "b7802d0c",
   "metadata": {},
   "outputs": [
    {
     "data": {
      "text/plain": [
       "200"
      ]
     },
     "execution_count": 33,
     "metadata": {},
     "output_type": "execute_result"
    }
   ],
   "source": [
    "last_dictionary[\"k4\"][\"b\"]"
   ]
  }
 ],
 "metadata": {
  "kernelspec": {
   "display_name": "Python 3 (ipykernel)",
   "language": "python",
   "name": "python3"
  },
  "language_info": {
   "codemirror_mode": {
    "name": "ipython",
    "version": 3
   },
   "file_extension": ".py",
   "mimetype": "text/x-python",
   "name": "python",
   "nbconvert_exporter": "python",
   "pygments_lexer": "ipython3",
   "version": "3.10.9"
  }
 },
 "nbformat": 4,
 "nbformat_minor": 5
}
