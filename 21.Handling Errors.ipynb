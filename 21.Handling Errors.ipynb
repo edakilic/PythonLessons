{
 "cells": [
  {
   "cell_type": "code",
   "execution_count": 1,
   "id": "67d75078",
   "metadata": {},
   "outputs": [
    {
     "name": "stdout",
     "output_type": "stream",
     "text": [
      "enter age:20\n"
     ]
    }
   ],
   "source": [
    "age = input(\"enter age:\")"
   ]
  },
  {
   "cell_type": "code",
   "execution_count": 3,
   "id": "f2b28694",
   "metadata": {},
   "outputs": [
    {
     "data": {
      "text/plain": [
       "40"
      ]
     },
     "execution_count": 3,
     "metadata": {},
     "output_type": "execute_result"
    }
   ],
   "source": [
    "int(age) * 2"
   ]
  },
  {
   "cell_type": "code",
   "execution_count": 4,
   "id": "31c87b34",
   "metadata": {},
   "outputs": [],
   "source": [
    "# Yaş yerine yanlışlıkla isim girilmiş olsaydı :"
   ]
  },
  {
   "cell_type": "code",
   "execution_count": 5,
   "id": "fe8f4171",
   "metadata": {},
   "outputs": [
    {
     "name": "stdout",
     "output_type": "stream",
     "text": [
      "enter age:eda\n"
     ]
    }
   ],
   "source": [
    "age = input(\"enter age:\")"
   ]
  },
  {
   "cell_type": "code",
   "execution_count": 7,
   "id": "7b607804",
   "metadata": {},
   "outputs": [
    {
     "ename": "ValueError",
     "evalue": "invalid literal for int() with base 10: 'eda'",
     "output_type": "error",
     "traceback": [
      "\u001b[1;31m---------------------------------------------------------------------------\u001b[0m",
      "\u001b[1;31mValueError\u001b[0m                                Traceback (most recent call last)",
      "Cell \u001b[1;32mIn[7], line 1\u001b[0m\n\u001b[1;32m----> 1\u001b[0m \u001b[38;5;28;43mint\u001b[39;49m\u001b[43m(\u001b[49m\u001b[43mage\u001b[49m\u001b[43m)\u001b[49m \u001b[38;5;241m*\u001b[39m \u001b[38;5;241m2\u001b[39m\n",
      "\u001b[1;31mValueError\u001b[0m: invalid literal for int() with base 10: 'eda'"
     ]
    }
   ],
   "source": [
    "int(age) * 2    "
   ]
  },
  {
   "cell_type": "code",
   "execution_count": 8,
   "id": "887d71b8",
   "metadata": {},
   "outputs": [],
   "source": [
    "# try - except     # yanlış girilecbilecek ihtimal yazılır."
   ]
  },
  {
   "cell_type": "code",
   "execution_count": 14,
   "id": "87af6fb3",
   "metadata": {},
   "outputs": [
    {
     "name": "stdout",
     "output_type": "stream",
     "text": [
      "enter age:eda\n",
      "enter your age!!\n",
      "enter age:20\n",
      "40\n"
     ]
    }
   ],
   "source": [
    "while True:\n",
    "    try:\n",
    "        myAge = int(input(\"enter age:\"))\n",
    "        print(myAge * 2)\n",
    "        break\n",
    "    except:\n",
    "        print(\"enter your age!!\")"
   ]
  },
  {
   "cell_type": "code",
   "execution_count": 13,
   "id": "1564ef73",
   "metadata": {},
   "outputs": [
    {
     "name": "stdout",
     "output_type": "stream",
     "text": [
      "enter age:30\n",
      "60\n"
     ]
    }
   ],
   "source": [
    "try:\n",
    "    myAge = int(input(\"enter age:\"))\n",
    "    print(myAge * 2)\n",
    "except:\n",
    "    print(\"enter your age!!\")"
   ]
  },
  {
   "cell_type": "code",
   "execution_count": 17,
   "id": "1b363dd1",
   "metadata": {},
   "outputs": [
    {
     "name": "stdout",
     "output_type": "stream",
     "text": [
      "enter age:eda\n",
      "enter your age!!\n",
      "finally\n",
      "enter age:20\n",
      "40\n",
      "else executed\n",
      "finally\n"
     ]
    }
   ],
   "source": [
    "while True:\n",
    "    try:\n",
    "        myAge = int(input(\"enter age:\"))\n",
    "        print(myAge * 2)\n",
    "    except:\n",
    "        print(\"enter your age!!\")\n",
    "    else:\n",
    "        print(\"else executed\")\n",
    "        break\n",
    "    finally:\n",
    "        print(\"finally\")"
   ]
  },
  {
   "cell_type": "code",
   "execution_count": null,
   "id": "1d598bcb",
   "metadata": {},
   "outputs": [],
   "source": [
    "# Finally her zaman çalışır."
   ]
  }
 ],
 "metadata": {
  "kernelspec": {
   "display_name": "Python 3 (ipykernel)",
   "language": "python",
   "name": "python3"
  },
  "language_info": {
   "codemirror_mode": {
    "name": "ipython",
    "version": 3
   },
   "file_extension": ".py",
   "mimetype": "text/x-python",
   "name": "python",
   "nbconvert_exporter": "python",
   "pygments_lexer": "ipython3",
   "version": "3.10.9"
  }
 },
 "nbformat": 4,
 "nbformat_minor": 5
}
