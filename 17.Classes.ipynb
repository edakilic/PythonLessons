{
 "cells": [
  {
   "cell_type": "code",
   "execution_count": 1,
   "id": "43436c00",
   "metadata": {},
   "outputs": [],
   "source": [
    "class Person():\n",
    "    name = \"\"\n",
    "    age = 20\n",
    "    gender=\"\"\n",
    "    \n",
    "    # method -> initializer -> ilk oluşturmak, değerini atamak.\n",
    "    def __init__(self):\n",
    "        print(\"init executed\")"
   ]
  },
  {
   "cell_type": "code",
   "execution_count": 2,
   "id": "94072f4c",
   "metadata": {},
   "outputs": [
    {
     "name": "stdout",
     "output_type": "stream",
     "text": [
      "init executed\n"
     ]
    }
   ],
   "source": [
    "eda = Person()"
   ]
  },
  {
   "cell_type": "code",
   "execution_count": 3,
   "id": "f3de6e2e",
   "metadata": {},
   "outputs": [
    {
     "name": "stdout",
     "output_type": "stream",
     "text": [
      "init executed\n"
     ]
    }
   ],
   "source": [
    "ayşe = Person()"
   ]
  },
  {
   "cell_type": "code",
   "execution_count": 4,
   "id": "ddf863dc",
   "metadata": {},
   "outputs": [
    {
     "data": {
      "text/plain": [
       "__main__.Person"
      ]
     },
     "execution_count": 4,
     "metadata": {},
     "output_type": "execute_result"
    }
   ],
   "source": [
    "type(eda)"
   ]
  },
  {
   "cell_type": "code",
   "execution_count": 26,
   "id": "ba0bd5ee",
   "metadata": {},
   "outputs": [],
   "source": [
    "class Person():\n",
    "    name = \"\"                  # Buradaki name, age, gender kısmını yazmasak da çallışır.\n",
    "    age = 0                    # Zorunlu tutulmayan özellikler buraya yazılabilir.\n",
    "    gender = \"\"\n",
    "    job = \"\"\n",
    "    \n",
    "    \n",
    "    def __init__(self,name,age,gender):           # Self komutu önemli nokta.\n",
    "        self.name = name                          # Zorunlu tutulmak istenen özellikler buraya yazılır.\n",
    "        self.age = age                             \n",
    "        self.gender = gender "
   ]
  },
  {
   "cell_type": "code",
   "execution_count": 27,
   "id": "796d3a26",
   "metadata": {},
   "outputs": [],
   "source": [
    "eda = Person (\"Eda\",20,\"Female\")   "
   ]
  },
  {
   "cell_type": "code",
   "execution_count": 28,
   "id": "236de2e5",
   "metadata": {},
   "outputs": [
    {
     "data": {
      "text/plain": [
       "'Eda'"
      ]
     },
     "execution_count": 28,
     "metadata": {},
     "output_type": "execute_result"
    }
   ],
   "source": [
    "eda.name"
   ]
  },
  {
   "cell_type": "code",
   "execution_count": 29,
   "id": "deb26992",
   "metadata": {},
   "outputs": [
    {
     "data": {
      "text/plain": [
       "20"
      ]
     },
     "execution_count": 29,
     "metadata": {},
     "output_type": "execute_result"
    }
   ],
   "source": [
    "eda.age"
   ]
  },
  {
   "cell_type": "code",
   "execution_count": 30,
   "id": "05bdd894",
   "metadata": {},
   "outputs": [
    {
     "data": {
      "text/plain": [
       "'Female'"
      ]
     },
     "execution_count": 30,
     "metadata": {},
     "output_type": "execute_result"
    }
   ],
   "source": [
    "eda.gender"
   ]
  },
  {
   "cell_type": "code",
   "execution_count": 33,
   "id": "b9c7c2b8",
   "metadata": {},
   "outputs": [],
   "source": [
    "eda.job = \"industrial engineer\""
   ]
  },
  {
   "cell_type": "code",
   "execution_count": 34,
   "id": "675aa2f8",
   "metadata": {},
   "outputs": [
    {
     "data": {
      "text/plain": [
       "'industrial engineer'"
      ]
     },
     "execution_count": 34,
     "metadata": {},
     "output_type": "execute_result"
    }
   ],
   "source": [
    "eda.job"
   ]
  },
  {
   "cell_type": "code",
   "execution_count": 45,
   "id": "18fe5c7e",
   "metadata": {},
   "outputs": [],
   "source": [
    "class Dog():\n",
    "    year = 7\n",
    "    \n",
    "    def __init__(self,age):\n",
    "        self.age = age\n",
    "        \n",
    "    def humanAge(self):\n",
    "        return self.age * self.year  # self.year yerine Dog.year(class'ın adı) daa yazılabilir."
   ]
  },
  {
   "cell_type": "code",
   "execution_count": 46,
   "id": "4569afd2",
   "metadata": {},
   "outputs": [],
   "source": [
    "myDog = Dog(3)"
   ]
  },
  {
   "cell_type": "code",
   "execution_count": 47,
   "id": "ff32fde2",
   "metadata": {},
   "outputs": [
    {
     "data": {
      "text/plain": [
       "3"
      ]
     },
     "execution_count": 47,
     "metadata": {},
     "output_type": "execute_result"
    }
   ],
   "source": [
    "myDog.age"
   ]
  },
  {
   "cell_type": "code",
   "execution_count": 48,
   "id": "f8290956",
   "metadata": {},
   "outputs": [
    {
     "data": {
      "text/plain": [
       "21"
      ]
     },
     "execution_count": 48,
     "metadata": {},
     "output_type": "execute_result"
    }
   ],
   "source": [
    "myDog.humanAge()"
   ]
  },
  {
   "cell_type": "code",
   "execution_count": null,
   "id": "a57ba93b",
   "metadata": {},
   "outputs": [],
   "source": []
  }
 ],
 "metadata": {
  "kernelspec": {
   "display_name": "Python 3 (ipykernel)",
   "language": "python",
   "name": "python3"
  },
  "language_info": {
   "codemirror_mode": {
    "name": "ipython",
    "version": 3
   },
   "file_extension": ".py",
   "mimetype": "text/x-python",
   "name": "python",
   "nbconvert_exporter": "python",
   "pygments_lexer": "ipython3",
   "version": "3.10.9"
  }
 },
 "nbformat": 4,
 "nbformat_minor": 5
}
