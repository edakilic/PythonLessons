{
 "cells": [
  {
   "cell_type": "code",
   "execution_count": 3,
   "id": "9a71414e",
   "metadata": {},
   "outputs": [],
   "source": [
    "def dividedNumber(number):\n",
    "    return number / 2"
   ]
  },
  {
   "cell_type": "code",
   "execution_count": 4,
   "id": "b49c0965",
   "metadata": {},
   "outputs": [
    {
     "data": {
      "text/plain": [
       "10.0"
      ]
     },
     "execution_count": 4,
     "metadata": {},
     "output_type": "execute_result"
    }
   ],
   "source": [
    "dividedNumber(20)"
   ]
  },
  {
   "cell_type": "code",
   "execution_count": 5,
   "id": "fe8f3717",
   "metadata": {},
   "outputs": [],
   "source": [
    "myList = [3,5,7,10,20,30]"
   ]
  },
  {
   "cell_type": "code",
   "execution_count": 7,
   "id": "bd0b8b1f",
   "metadata": {},
   "outputs": [
    {
     "name": "stdout",
     "output_type": "stream",
     "text": [
      "[1.5, 2.5, 3.5, 5.0, 10.0, 15.0]\n"
     ]
    }
   ],
   "source": [
    "myResultList = []\n",
    "for num in myList:\n",
    "    myResultList.append(dividedNumber(num))\n",
    "print(myResultList)"
   ]
  },
  {
   "cell_type": "markdown",
   "id": "c29b5f2a",
   "metadata": {},
   "source": [
    "# map"
   ]
  },
  {
   "cell_type": "code",
   "execution_count": 10,
   "id": "2e1bed4e",
   "metadata": {},
   "outputs": [],
   "source": [
    "def controlString(string):\n",
    "    return \"Eda\" in string "
   ]
  },
  {
   "cell_type": "code",
   "execution_count": 4,
   "id": "6d6f419d",
   "metadata": {},
   "outputs": [
    {
     "data": {
      "text/plain": [
       "True"
      ]
     },
     "execution_count": 4,
     "metadata": {},
     "output_type": "execute_result"
    }
   ],
   "source": [
    "controlString(\"Eda Kılıç\")"
   ]
  },
  {
   "cell_type": "code",
   "execution_count": 6,
   "id": "b9b1cfce",
   "metadata": {},
   "outputs": [
    {
     "data": {
      "text/plain": [
       "False"
      ]
     },
     "execution_count": 6,
     "metadata": {},
     "output_type": "execute_result"
    }
   ],
   "source": [
    "controlString(\"Kılıç\")"
   ]
  },
  {
   "cell_type": "code",
   "execution_count": 12,
   "id": "64b85efb",
   "metadata": {},
   "outputs": [],
   "source": [
    "myStringList = [\"Eda\",\"kılıç\",\"Eda kılıç\",\"ek\"]"
   ]
  },
  {
   "cell_type": "code",
   "execution_count": 13,
   "id": "d1d6e9ec",
   "metadata": {},
   "outputs": [
    {
     "data": {
      "text/plain": [
       "[True, False, True, False]"
      ]
     },
     "execution_count": 13,
     "metadata": {},
     "output_type": "execute_result"
    }
   ],
   "source": [
    "list(map(controlString,myStringList))"
   ]
  },
  {
   "cell_type": "markdown",
   "id": "24a3bec5",
   "metadata": {},
   "source": [
    "# filter\n"
   ]
  },
  {
   "cell_type": "code",
   "execution_count": 16,
   "id": "e9a15036",
   "metadata": {},
   "outputs": [
    {
     "data": {
      "text/plain": [
       "['Eda', 'Eda kılıç']"
      ]
     },
     "execution_count": 16,
     "metadata": {},
     "output_type": "execute_result"
    }
   ],
   "source": [
    "list(filter(controlString,myStringList))"
   ]
  },
  {
   "cell_type": "markdown",
   "id": "574d0b35",
   "metadata": {},
   "source": [
    "# lambda"
   ]
  },
  {
   "cell_type": "code",
   "execution_count": 17,
   "id": "e05d9a06",
   "metadata": {},
   "outputs": [],
   "source": [
    "multiplyLambda = lambda num : num * 3"
   ]
  },
  {
   "cell_type": "code",
   "execution_count": 18,
   "id": "05d56640",
   "metadata": {},
   "outputs": [
    {
     "data": {
      "text/plain": [
       "function"
      ]
     },
     "execution_count": 18,
     "metadata": {},
     "output_type": "execute_result"
    }
   ],
   "source": [
    "type(multiplyLambda)"
   ]
  },
  {
   "cell_type": "code",
   "execution_count": 19,
   "id": "f3d28f0d",
   "metadata": {},
   "outputs": [
    {
     "data": {
      "text/plain": [
       "60"
      ]
     },
     "execution_count": 19,
     "metadata": {},
     "output_type": "execute_result"
    }
   ],
   "source": [
    "multiplyLambda(20)"
   ]
  },
  {
   "cell_type": "code",
   "execution_count": 20,
   "id": "e4d58eb4",
   "metadata": {},
   "outputs": [],
   "source": [
    "result = multiplyLambda(10)"
   ]
  },
  {
   "cell_type": "code",
   "execution_count": 26,
   "id": "3a98dde0",
   "metadata": {},
   "outputs": [
    {
     "data": {
      "text/plain": [
       "30"
      ]
     },
     "execution_count": 26,
     "metadata": {},
     "output_type": "execute_result"
    }
   ],
   "source": [
    "result                        # aşağıdakiyle aynı ama kısa versiyonu."
   ]
  },
  {
   "cell_type": "code",
   "execution_count": 22,
   "id": "cd50b1ec",
   "metadata": {},
   "outputs": [],
   "source": [
    "def multiply(num):             \n",
    "    return num * 3 "
   ]
  },
  {
   "cell_type": "code",
   "execution_count": 25,
   "id": "5215cfbc",
   "metadata": {},
   "outputs": [
    {
     "data": {
      "text/plain": [
       "60"
      ]
     },
     "execution_count": 25,
     "metadata": {},
     "output_type": "execute_result"
    }
   ],
   "source": [
    "multiply(20)"
   ]
  },
  {
   "cell_type": "code",
   "execution_count": 27,
   "id": "8976d28a",
   "metadata": {},
   "outputs": [],
   "source": [
    "numList = [10,20,30,40]   "
   ]
  },
  {
   "cell_type": "code",
   "execution_count": 28,
   "id": "9a6ecf17",
   "metadata": {},
   "outputs": [
    {
     "data": {
      "text/plain": [
       "[5.0, 10.0, 15.0, 20.0]"
      ]
     },
     "execution_count": 28,
     "metadata": {},
     "output_type": "execute_result"
    }
   ],
   "source": [
    "list(map(lambda num : num / 2, numList))      # ayrıca lambda tanımlamaya gerek yok."
   ]
  }
 ],
 "metadata": {
  "kernelspec": {
   "display_name": "Python 3 (ipykernel)",
   "language": "python",
   "name": "python3"
  },
  "language_info": {
   "codemirror_mode": {
    "name": "ipython",
    "version": 3
   },
   "file_extension": ".py",
   "mimetype": "text/x-python",
   "name": "python",
   "nbconvert_exporter": "python",
   "pygments_lexer": "ipython3",
   "version": "3.10.9"
  }
 },
 "nbformat": 4,
 "nbformat_minor": 5
}
